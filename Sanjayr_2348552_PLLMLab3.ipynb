{
 "cells": [
  {
   "cell_type": "code",
   "execution_count": 1,
   "metadata": {},
   "outputs": [],
   "source": [
    "from langchain_core.prompts import ChatPromptTemplate \n",
    "from langchain_core.output_parsers import StrOutputParser\n",
    "from langchain_community.llms import Ollama\n",
    "from langchain_groq import ChatGroq\n",
    "import httpx"
   ]
  },
  {
   "cell_type": "code",
   "execution_count": 2,
   "metadata": {},
   "outputs": [],
   "source": [
    "api_key = \"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\""
   ]
  },
  {
   "cell_type": "code",
   "execution_count": 3,
   "metadata": {},
   "outputs": [],
   "source": [
    "prompt = ChatPromptTemplate.from_messages(\n",
    "    [\n",
    "        (\"system\", \"You are a creative story assistant. Generate engaging and imaginative stories based on the prompts provided by the user.\"),\n",
    "        (\"user\", \"Question:{question}\")\n",
    "    ]\n",
    ")"
   ]
  },
  {
   "cell_type": "code",
   "execution_count": 4,
   "metadata": {},
   "outputs": [],
   "source": [
    "groqApi = ChatGroq(model=\"gemma-7b-It\", temperature=0,api_key=api_key)\n",
    "outputparser = StrOutputParser()\n",
    "chainSec = prompt | groqApi | outputparser"
   ]
  },
  {
   "cell_type": "code",
   "execution_count": 5,
   "metadata": {},
   "outputs": [],
   "source": [
    "def chat_with_assistant(question):\n",
    "    try:\n",
    "        response = chainSec.invoke({'question': question})\n",
    "        return response\n",
    "    except httpx.ConnectError as e:\n",
    "        return f\"Connection error: {e}\"\n",
    "    except Exception as e:\n",
    "        return f\"An error occurred: {e}\""
   ]
  },
  {
   "cell_type": "code",
   "execution_count": 8,
   "metadata": {},
   "outputs": [
    {
     "name": "stdout",
     "output_type": "stream",
     "text": [
      "## A Symphony of Celluloid and Clay\n",
      "\n",
      "The salty tang of the Kochi harbor hangs thick in the air as the neon glow of the Minerva Theatre bathes the faces of a hushed audience. Inside, a familiar melody fills the space, not from the projector, but from the hushed whispers of anticipation. This is a place where stories are born, where the silver screen becomes a portal to the soul of Kerala.\n",
      "\n",
      "This is the story of Malayalam cinema, a symphony composed of celluloid and clay, of dreams woven in the language of a land. It is a melody that echoes the rhythm of the waves, the whispers of the monsoon, the vibrant hum of a culture rich in tradition and yearning for change.\n",
      "\n",
      "The story begins with the flickering frames of the first Malayalam film, \"Balan,\" a silent drama that dared to speak of social inequality. From there, it weaves through the golden age of Malayalam cinema, where legends like Madhuvan, Jayan, and Sathyan etched their names in cinematic history.\n",
      "\n",
      "Through the tumultuous decades, Malayalam cinema evolved. From the poignant narratives of Adoor Gopalakrishnan to the political undercurrents of Salim Ali's films, the language of the movies shifted and evolved, mirroring the changing landscape of the state itself.\n",
      "\n",
      "The story is not just about the stories told, but the stories behind the stories. The struggles of filmmakers like K.G. George and Aravindan, the pioneers who dared to push boundaries, defying censorship and carving their own unique styles.\n",
      "\n",
      "It is also a story of the changing faces of Malayalam society, reflected in the evolving characters and narratives. The traditional hero, the valiant warrior, gives way to the nuanced characters of the modern era, grappling with complex emotions, societal pressures, and personal struggles.\n",
      "\n",
      "The melody of Malayalam cinema is not just about the stories, but the emotions they evoke. The joyous dances, the melancholic ballads, the haunting melodies that linger long after the credits roll. It is a symphony of human experiences, a tapestry woven with the threads of hope, love, loss, and triumph.\n",
      "\n",
      "This is the story of Malayalam cinema, a symphony that continues to resonate, reminding us that the magic of stories transcends language, reminding us that the celluloid frame can capture the very essence of a people, a land, a culture.\n"
     ]
    }
   ],
   "source": [
    "inputText = input(\"Story time: enter a title to start: \")\n",
    "\n",
    "if inputText:\n",
    "    print(chat_with_assistant(inputText))"
   ]
  },
  {
   "cell_type": "code",
   "execution_count": null,
   "metadata": {},
   "outputs": [],
   "source": []
  }
 ],
 "metadata": {
  "kernelspec": {
   "display_name": "Python 3",
   "language": "python",
   "name": "python3"
  },
  "language_info": {
   "codemirror_mode": {
    "name": "ipython",
    "version": 3
   },
   "file_extension": ".py",
   "mimetype": "text/x-python",
   "name": "python",
   "nbconvert_exporter": "python",
   "pygments_lexer": "ipython3",
   "version": "3.12.3"
  }
 },
 "nbformat": 4,
 "nbformat_minor": 2
}
